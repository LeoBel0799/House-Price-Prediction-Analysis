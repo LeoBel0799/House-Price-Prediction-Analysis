{
 "cells": [
  {
   "cell_type": "markdown",
   "metadata": {},
   "source": [
    "## Trying out a linear model: \n",
    "\n",
    "Author: Alexandru Papiu ([@apapiu](https://twitter.com/apapiu), [GitHub](https://github.com/apapiu))\n",
    " \n",
    "If you use parts of this notebook in your own scripts, please give some sort of credit (for example link back to this). Thanks!\n",
    "\n",
    "\n",
    "There have been a few [great](https://www.kaggle.com/comartel/house-prices-advanced-regression-techniques/house-price-xgboost-starter/run/348739)  [scripts](https://www.kaggle.com/zoupet/house-prices-advanced-regression-techniques/xgboost-10-kfolds-with-scikit-learn/run/357561) on [xgboost](https://www.kaggle.com/tadepalli/house-prices-advanced-regression-techniques/xgboost-with-n-trees-autostop-0-12638/run/353049) already so I'd figured I'd try something simpler: a regularized linear regression model. Surprisingly it does really well with very little feature engineering. The key point is to to log_transform the numeric variables since most of them are skewed."
   ]
  },
  {
   "cell_type": "code",
   "execution_count": 162,
   "metadata": {
    "collapsed": true
   },
   "outputs": [],
   "source": [
    "import pandas as pd\n",
    "import numpy as np\n",
    "import seaborn as sns\n",
    "import matplotlib\n",
    "\n",
    "import matplotlib.pyplot as plt\n",
    "from scipy.stats import skew\n",
    "from scipy.stats.stats import pearsonr\n",
    "\n",
    "\n",
    "%config InlineBackend.figure_format = 'retina' #set 'png' here when working on notebook\n",
    "%matplotlib inline"
   ]
  },
  {
   "cell_type": "code",
   "execution_count": 163,
   "metadata": {
    "collapsed": true
   },
   "outputs": [],
   "source": [
    "train = pd.read_csv(\"./input/train.csv\")\n",
    "test = pd.read_csv(\"./input/test.csv\")"
   ]
  },
  {
   "cell_type": "code",
   "execution_count": 164,
   "metadata": {},
   "outputs": [
    {
     "data": {
      "text/html": [
       "<div>\n",
       "<style>\n",
       "    .dataframe thead tr:only-child th {\n",
       "        text-align: right;\n",
       "    }\n",
       "\n",
       "    .dataframe thead th {\n",
       "        text-align: left;\n",
       "    }\n",
       "\n",
       "    .dataframe tbody tr th {\n",
       "        vertical-align: top;\n",
       "    }\n",
       "</style>\n",
       "<table border=\"1\" class=\"dataframe\">\n",
       "  <thead>\n",
       "    <tr style=\"text-align: right;\">\n",
       "      <th></th>\n",
       "      <th>Id</th>\n",
       "      <th>MSSubClass</th>\n",
       "      <th>MSZoning</th>\n",
       "      <th>LotFrontage</th>\n",
       "      <th>LotArea</th>\n",
       "      <th>Street</th>\n",
       "      <th>Alley</th>\n",
       "      <th>LotShape</th>\n",
       "      <th>LandContour</th>\n",
       "      <th>Utilities</th>\n",
       "      <th>...</th>\n",
       "      <th>PoolArea</th>\n",
       "      <th>PoolQC</th>\n",
       "      <th>Fence</th>\n",
       "      <th>MiscFeature</th>\n",
       "      <th>MiscVal</th>\n",
       "      <th>MoSold</th>\n",
       "      <th>YrSold</th>\n",
       "      <th>SaleType</th>\n",
       "      <th>SaleCondition</th>\n",
       "      <th>SalePrice</th>\n",
       "    </tr>\n",
       "  </thead>\n",
       "  <tbody>\n",
       "    <tr>\n",
       "      <th>0</th>\n",
       "      <td>1</td>\n",
       "      <td>60</td>\n",
       "      <td>RL</td>\n",
       "      <td>65.0</td>\n",
       "      <td>8450</td>\n",
       "      <td>Pave</td>\n",
       "      <td>NaN</td>\n",
       "      <td>Reg</td>\n",
       "      <td>Lvl</td>\n",
       "      <td>AllPub</td>\n",
       "      <td>...</td>\n",
       "      <td>0</td>\n",
       "      <td>NaN</td>\n",
       "      <td>NaN</td>\n",
       "      <td>NaN</td>\n",
       "      <td>0</td>\n",
       "      <td>2</td>\n",
       "      <td>2008</td>\n",
       "      <td>WD</td>\n",
       "      <td>Normal</td>\n",
       "      <td>208500</td>\n",
       "    </tr>\n",
       "    <tr>\n",
       "      <th>1</th>\n",
       "      <td>2</td>\n",
       "      <td>20</td>\n",
       "      <td>RL</td>\n",
       "      <td>80.0</td>\n",
       "      <td>9600</td>\n",
       "      <td>Pave</td>\n",
       "      <td>NaN</td>\n",
       "      <td>Reg</td>\n",
       "      <td>Lvl</td>\n",
       "      <td>AllPub</td>\n",
       "      <td>...</td>\n",
       "      <td>0</td>\n",
       "      <td>NaN</td>\n",
       "      <td>NaN</td>\n",
       "      <td>NaN</td>\n",
       "      <td>0</td>\n",
       "      <td>5</td>\n",
       "      <td>2007</td>\n",
       "      <td>WD</td>\n",
       "      <td>Normal</td>\n",
       "      <td>181500</td>\n",
       "    </tr>\n",
       "    <tr>\n",
       "      <th>2</th>\n",
       "      <td>3</td>\n",
       "      <td>60</td>\n",
       "      <td>RL</td>\n",
       "      <td>68.0</td>\n",
       "      <td>11250</td>\n",
       "      <td>Pave</td>\n",
       "      <td>NaN</td>\n",
       "      <td>IR1</td>\n",
       "      <td>Lvl</td>\n",
       "      <td>AllPub</td>\n",
       "      <td>...</td>\n",
       "      <td>0</td>\n",
       "      <td>NaN</td>\n",
       "      <td>NaN</td>\n",
       "      <td>NaN</td>\n",
       "      <td>0</td>\n",
       "      <td>9</td>\n",
       "      <td>2008</td>\n",
       "      <td>WD</td>\n",
       "      <td>Normal</td>\n",
       "      <td>223500</td>\n",
       "    </tr>\n",
       "    <tr>\n",
       "      <th>3</th>\n",
       "      <td>4</td>\n",
       "      <td>70</td>\n",
       "      <td>RL</td>\n",
       "      <td>60.0</td>\n",
       "      <td>9550</td>\n",
       "      <td>Pave</td>\n",
       "      <td>NaN</td>\n",
       "      <td>IR1</td>\n",
       "      <td>Lvl</td>\n",
       "      <td>AllPub</td>\n",
       "      <td>...</td>\n",
       "      <td>0</td>\n",
       "      <td>NaN</td>\n",
       "      <td>NaN</td>\n",
       "      <td>NaN</td>\n",
       "      <td>0</td>\n",
       "      <td>2</td>\n",
       "      <td>2006</td>\n",
       "      <td>WD</td>\n",
       "      <td>Abnorml</td>\n",
       "      <td>140000</td>\n",
       "    </tr>\n",
       "    <tr>\n",
       "      <th>4</th>\n",
       "      <td>5</td>\n",
       "      <td>60</td>\n",
       "      <td>RL</td>\n",
       "      <td>84.0</td>\n",
       "      <td>14260</td>\n",
       "      <td>Pave</td>\n",
       "      <td>NaN</td>\n",
       "      <td>IR1</td>\n",
       "      <td>Lvl</td>\n",
       "      <td>AllPub</td>\n",
       "      <td>...</td>\n",
       "      <td>0</td>\n",
       "      <td>NaN</td>\n",
       "      <td>NaN</td>\n",
       "      <td>NaN</td>\n",
       "      <td>0</td>\n",
       "      <td>12</td>\n",
       "      <td>2008</td>\n",
       "      <td>WD</td>\n",
       "      <td>Normal</td>\n",
       "      <td>250000</td>\n",
       "    </tr>\n",
       "  </tbody>\n",
       "</table>\n",
       "<p>5 rows × 81 columns</p>\n",
       "</div>"
      ],
      "text/plain": [
       "   Id  MSSubClass MSZoning  LotFrontage  LotArea Street Alley LotShape  \\\n",
       "0   1          60       RL         65.0     8450   Pave   NaN      Reg   \n",
       "1   2          20       RL         80.0     9600   Pave   NaN      Reg   \n",
       "2   3          60       RL         68.0    11250   Pave   NaN      IR1   \n",
       "3   4          70       RL         60.0     9550   Pave   NaN      IR1   \n",
       "4   5          60       RL         84.0    14260   Pave   NaN      IR1   \n",
       "\n",
       "  LandContour Utilities    ...     PoolArea PoolQC Fence MiscFeature MiscVal  \\\n",
       "0         Lvl    AllPub    ...            0    NaN   NaN         NaN       0   \n",
       "1         Lvl    AllPub    ...            0    NaN   NaN         NaN       0   \n",
       "2         Lvl    AllPub    ...            0    NaN   NaN         NaN       0   \n",
       "3         Lvl    AllPub    ...            0    NaN   NaN         NaN       0   \n",
       "4         Lvl    AllPub    ...            0    NaN   NaN         NaN       0   \n",
       "\n",
       "  MoSold YrSold  SaleType  SaleCondition  SalePrice  \n",
       "0      2   2008        WD         Normal     208500  \n",
       "1      5   2007        WD         Normal     181500  \n",
       "2      9   2008        WD         Normal     223500  \n",
       "3      2   2006        WD        Abnorml     140000  \n",
       "4     12   2008        WD         Normal     250000  \n",
       "\n",
       "[5 rows x 81 columns]"
      ]
     },
     "execution_count": 164,
     "metadata": {},
     "output_type": "execute_result"
    }
   ],
   "source": [
    "train.head()"
   ]
  },
  {
   "cell_type": "code",
   "execution_count": 165,
   "metadata": {
    "collapsed": true
   },
   "outputs": [],
   "source": [
    "all_data = pd.concat((train.loc[:,'MSSubClass':'SaleCondition'],\n",
    "                      test.loc[:,'MSSubClass':'SaleCondition'])) #Removed ID and SalePrice"
   ]
  },
  {
   "cell_type": "code",
   "execution_count": 166,
   "metadata": {
    "collapsed": true,
    "scrolled": true
   },
   "outputs": [],
   "source": [
    "#all_data.head()"
   ]
  },
  {
   "cell_type": "code",
   "execution_count": null,
   "metadata": {
    "collapsed": true
   },
   "outputs": [],
   "source": []
  },
  {
   "cell_type": "markdown",
   "metadata": {},
   "source": [
    "###Data preprocessing: \n",
    "We're not going to do anything fancy here: \n",
    " \n",
    "- First I'll transform the skewed numeric features by taking log(feature + 1) - this will make the features more normal    \n",
    "- Create Dummy variables for the categorical features    \n",
    "- Replace the numeric missing values (NaN's) with the mean of their respective columns"
   ]
  },
  {
   "cell_type": "code",
   "execution_count": 167,
   "metadata": {},
   "outputs": [
    {
     "data": {
      "text/plain": [
       "array([[<matplotlib.axes._subplots.AxesSubplot object at 0x7eff7cda4da0>,\n",
       "        <matplotlib.axes._subplots.AxesSubplot object at 0x7eff7c54b080>]], dtype=object)"
      ]
     },
     "execution_count": 167,
     "metadata": {},
     "output_type": "execute_result"
    },
    {
     "data": {
      "image/png": "[encoded data removed]",
      "text/plain": [
       "<matplotlib.figure.Figure at 0x7eff7ce3da58>"
      ]
     },
     "metadata": {
      "image/png": {
       "height": 371,
       "width": 707
      }
     },
     "output_type": "display_data"
    }
   ],
   "source": [
    "matplotlib.rcParams['figure.figsize'] = (12.0, 6.0)\n",
    "prices = pd.DataFrame({\"price\":train[\"SalePrice\"], \"log(price + 1)\":np.log1p(train[\"SalePrice\"])})\n",
    "prices.hist()"
   ]
  },
  {
   "cell_type": "code",
   "execution_count": 168,
   "metadata": {
    "collapsed": true
   },
   "outputs": [],
   "source": [
    "#log transform the target:\n",
    "train[\"SalePrice\"] = np.log1p(train[\"SalePrice\"])\n",
    "\n",
    "#log transform skewed numeric features:\n",
    "numeric_feats = all_data.dtypes[all_data.dtypes != \"object\"].index\n",
    "\n",
    "skewed_feats = train[numeric_feats].apply(lambda x: skew(x.dropna())) #compute skewness\n",
    "skewed_feats = skewed_feats[skewed_feats > 0.75]\n",
    "skewed_feats = skewed_feats.index\n",
    "\n",
    "all_data[skewed_feats] = np.log1p(all_data[skewed_feats])"
   ]
  },
  {
   "cell_type": "code",
   "execution_count": 169,
   "metadata": {
    "collapsed": true
   },
   "outputs": [],
   "source": [
    "all_data = pd.get_dummies(all_data)"
   ]
  },
  {
   "cell_type": "code",
   "execution_count": 170,
   "metadata": {
    "collapsed": true
   },
   "outputs": [],
   "source": [
    "#all_data.head()"
   ]
  },
  {
   "cell_type": "code",
   "execution_count": null,
   "metadata": {
    "collapsed": true
   },
   "outputs": [],
   "source": []
  },
  {
   "cell_type": "code",
   "execution_count": 171,
   "metadata": {
    "collapsed": true
   },
   "outputs": [],
   "source": [
    "#filling NA's with the mean of the column:\n",
    "#all_data = all_data.fillna(all_data.median()) ##Rohan1\n",
    "all_data = all_data.fillna(all_data.mean())"
   ]
  },
  {
   "cell_type": "code",
   "execution_count": 172,
   "metadata": {
    "collapsed": true
   },
   "outputs": [],
   "source": [
    "#creating matrices for sklearn:\n",
    "X_train = all_data[:train.shape[0]]\n",
    "X_test = all_data[train.shape[0]:]\n",
    "y = train.SalePrice"
   ]
  },
  {
   "cell_type": "code",
   "execution_count": null,
   "metadata": {
    "collapsed": true
   },
   "outputs": [],
   "source": []
  },
  {
   "cell_type": "markdown",
   "metadata": {},
   "source": [
    "###Models\n",
    "\n",
    "Now we are going to use regularized linear regression models from the scikit learn module. I'm going to try both l_1(Lasso) and l_2(Ridge) regularization. I'll also define a function that returns the cross-validation rmse error so we can evaluate our models and pick the best tuning par"
   ]
  },
  {
   "cell_type": "code",
   "execution_count": 173,
   "metadata": {
    "collapsed": true
   },
   "outputs": [],
   "source": [
    "from sklearn.linear_model import Ridge, RidgeCV, ElasticNet, LassoCV, LassoLarsCV\n",
    "from sklearn.model_selection import cross_val_score\n",
    "\n",
    "def rmse_cv(model):\n",
    "    rmse= np.sqrt(-cross_val_score(model, X_train, y, scoring=\"neg_mean_squared_error\", cv = 5))\n",
    "    return(rmse)"
   ]
  },
  {
   "cell_type": "code",
   "execution_count": 174,
   "metadata": {
    "collapsed": true
   },
   "outputs": [],
   "source": [
    "model_ridge = Ridge()"
   ]
  },
  {
   "cell_type": "markdown",
   "metadata": {},
   "source": [
    "The main tuning parameter for the Ridge model is alpha - a regularization parameter that measures how flexible our model is. The higher the regularization the less prone our model will be to overfit. However it will also lose flexibility and might not capture all of the signal in the data."
   ]
  },
  {
   "cell_type": "code",
   "execution_count": 175,
   "metadata": {
    "collapsed": true
   },
   "outputs": [],
   "source": [
    "alphas = [0.05, 0.1, 0.3, 1, 3, 5, 10, 15, 30, 50, 75]\n",
    "cv_ridge = [rmse_cv(Ridge(alpha = alpha)).mean() \n",
    "            for alpha in alphas]"
   ]
  },
  {
   "cell_type": "code",
   "execution_count": 176,
   "metadata": {},
   "outputs": [
    {
     "data": {
      "text/plain": [
       "<matplotlib.text.Text at 0x7eff7c4739b0>"
      ]
     },
     "execution_count": 176,
     "metadata": {},
     "output_type": "execute_result"
    },
    {
     "data": {
      "image/png": "[encoded data removed]",
      "text/plain": [
       "<matplotlib.figure.Figure at 0x7eff7c467518>"
      ]
     },
     "metadata": {
      "image/png": {
       "height": 386,
       "width": 730
      }
     },
     "output_type": "display_data"
    }
   ],
   "source": [
    "cv_ridge = pd.Series(cv_ridge, index = alphas)\n",
    "cv_ridge.plot(title = \"Validation - Just Do It\")\n",
    "plt.xlabel(\"alpha\")\n",
    "plt.ylabel(\"rmse\")"
   ]
  },
  {
   "cell_type": "markdown",
   "metadata": {},
   "source": [
    "Note the U-ish shaped curve above. When alpha is too large the regularization is too strong and the model cannot capture all the complexities in the data. If however we let the model be too flexible (alpha small) the model begins to overfit. A value of alpha = 10 is about right based on the plot above."
   ]
  },
  {
   "cell_type": "code",
   "execution_count": 177,
   "metadata": {},
   "outputs": [
    {
     "data": {
      "text/plain": [
       "0.12733734668670785"
      ]
     },
     "execution_count": 177,
     "metadata": {},
     "output_type": "execute_result"
    }
   ],
   "source": [
    "cv_ridge.min()"
   ]
  },
  {
   "cell_type": "markdown",
   "metadata": {},
   "source": [
    "So for the Ridge regression we get a rmsle of about 0.127\n",
    "\n",
    "Let' try out the Lasso model. We will do a slightly different approach here and use the built in Lasso CV to figure out the best alpha for us. For some reason the alphas in Lasso CV are really the inverse or the alphas in Ridge."
   ]
  },
  {
   "cell_type": "code",
   "execution_count": 178,
   "metadata": {
    "collapsed": true
   },
   "outputs": [],
   "source": [
    "model_lasso = LassoCV(alphas = [1, 0.1, 0.001, 0.0005]).fit(X_train, y)"
   ]
  },
  {
   "cell_type": "code",
   "execution_count": 179,
   "metadata": {},
   "outputs": [
    {
     "data": {
      "text/plain": [
       "0.12314421090977457"
      ]
     },
     "execution_count": 179,
     "metadata": {},
     "output_type": "execute_result"
    }
   ],
   "source": [
    "rmse_cv(model_lasso).mean()"
   ]
  },
  {
   "cell_type": "markdown",
   "metadata": {},
   "source": [
    "Nice! The lasso performs even better so we'll just use this one to predict on the test set. Another neat thing about the Lasso is that it does feature selection for you - setting coefficients of features it deems unimportant to zero. Let's take a look at the coefficients:"
   ]
  },
  {
   "cell_type": "code",
   "execution_count": 180,
   "metadata": {
    "collapsed": true
   },
   "outputs": [],
   "source": [
    "coef = pd.Series(model_lasso.coef_, index = X_train.columns)"
   ]
  },
  {
   "cell_type": "code",
   "execution_count": 181,
   "metadata": {},
   "outputs": [
    {
     "name": "stdout",
     "output_type": "stream",
     "text": [
      "Lasso picked 111 variables and eliminated the other 177 variables\n"
     ]
    }
   ],
   "source": [
    "print(\"Lasso picked \" + str(sum(coef != 0)) + \" variables and eliminated the other \" +  str(sum(coef == 0)) + \" variables\")"
   ]
  },
  {
   "cell_type": "markdown",
   "metadata": {},
   "source": [
    "Good job Lasso.  One thing to note here however is that the features selected are not necessarily the \"correct\" ones - especially since there are a lot of collinear features in this dataset. One idea to try here is run Lasso a few times on boostrapped samples and see how stable the feature selection is."
   ]
  },
  {
   "cell_type": "markdown",
   "metadata": {},
   "source": [
    "We can also take a look directly at what the most important coefficients are:"
   ]
  },
  {
   "cell_type": "code",
   "execution_count": 182,
   "metadata": {
    "collapsed": true
   },
   "outputs": [],
   "source": [
    "imp_coef = pd.concat([coef.sort_values().head(10),\n",
    "                     coef.sort_values().tail(10)])"
   ]
  },
  {
   "cell_type": "code",
   "execution_count": 183,
   "metadata": {},
   "outputs": [
    {
     "data": {
      "text/plain": [
       "<matplotlib.text.Text at 0x7eff7c3f8828>"
      ]
     },
     "execution_count": 183,
     "metadata": {},
     "output_type": "execute_result"
    },
    {
     "data": {
      "image/png": "[encoded data removed]",
      "text/plain": [
       "<matplotlib.figure.Figure at 0x7eff7c42eba8>"
      ]
     },
     "metadata": {
      "image/png": {
       "height": 589,
       "width": 575
      }
     },
     "output_type": "display_data"
    }
   ],
   "source": [
    "matplotlib.rcParams['figure.figsize'] = (8.0, 10.0)\n",
    "imp_coef.plot(kind = \"barh\")\n",
    "plt.title(\"Coefficients in the Lasso Model\")"
   ]
  },
  {
   "cell_type": "markdown",
   "metadata": {},
   "source": [
    "The most important positive feature is `GrLivArea` -  the above ground area by area square feet. This definitely sense. Then a few other  location and quality features contributed positively. Some of the negative features make less sense and would be worth looking into more - it seems like they might come from unbalanced categorical variables.\n",
    "\n",
    " Also note that unlike the feature importance you'd get from a random forest these are _actual_ coefficients in your model - so you can say precisely why the predicted price is what it is. The only issue here is that we log_transformed both the target and the numeric features so the actual magnitudes are a bit hard to interpret. "
   ]
  },
  {
   "cell_type": "code",
   "execution_count": 184,
   "metadata": {},
   "outputs": [
    {
     "data": {
      "text/plain": [
       "<matplotlib.axes._subplots.AxesSubplot at 0x7eff7c47fa20>"
      ]
     },
     "execution_count": 184,
     "metadata": {},
     "output_type": "execute_result"
    },
    {
     "data": {
      "image/png": "[encoded data removed]",
      "text/plain": [
       "<matplotlib.figure.Figure at 0x7eff7c341d30>"
      ]
     },
     "metadata": {
      "image/png": {
       "height": 371,
       "width": 390
      }
     },
     "output_type": "display_data"
    }
   ],
   "source": [
    "#let's look at the residuals as well:\n",
    "matplotlib.rcParams['figure.figsize'] = (6.0, 6.0)\n",
    "\n",
    "preds = pd.DataFrame({\"preds\":model_lasso.predict(X_train), \"true\":y})\n",
    "preds[\"residuals\"] = preds[\"true\"] - preds[\"preds\"]\n",
    "preds.plot(x = \"preds\", y = \"residuals\",kind = \"scatter\")"
   ]
  },
  {
   "cell_type": "markdown",
   "metadata": {},
   "source": [
    "The residual plot looks pretty good.To wrap it up let's predict on the test set and submit on the leaderboard:"
   ]
  },
  {
   "cell_type": "markdown",
   "metadata": {},
   "source": [
    "### Adding an xgboost model:"
   ]
  },
  {
   "cell_type": "markdown",
   "metadata": {},
   "source": [
    "Let's add an xgboost model to our linear model to see if we can improve our score:"
   ]
  },
  {
   "cell_type": "code",
   "execution_count": 185,
   "metadata": {},
   "outputs": [],
   "source": [
    "import xgboost as xgb"
   ]
  },
  {
   "cell_type": "code",
   "execution_count": 186,
   "metadata": {
    "collapsed": true
   },
   "outputs": [],
   "source": [
    "\n",
    "dtrain = xgb.DMatrix(X_train, label = y)\n",
    "dtest = xgb.DMatrix(X_test)\n",
    "\n",
    "params = {\"max_depth\":2, \"eta\":0.1}\n",
    "model = xgb.cv(params, dtrain,  num_boost_round=500, early_stopping_rounds=100)"
   ]
  },
  {
   "cell_type": "code",
   "execution_count": 187,
   "metadata": {},
   "outputs": [
    {
     "data": {
      "text/plain": [
       "<matplotlib.axes._subplots.AxesSubplot at 0x7eff7c3053c8>"
      ]
     },
     "execution_count": 187,
     "metadata": {},
     "output_type": "execute_result"
    },
    {
     "data": {
      "image/png": "[encoded data removed]",
      "text/plain": [
       "<matplotlib.figure.Figure at 0x7eff7c492c18>"
      ]
     },
     "metadata": {
      "image/png": {
       "height": 357,
       "width": 370
      }
     },
     "output_type": "display_data"
    }
   ],
   "source": [
    "model.loc[30:,[\"test-rmse-mean\", \"train-rmse-mean\"]].plot()"
   ]
  },
  {
   "cell_type": "code",
   "execution_count": 188,
   "metadata": {},
   "outputs": [
    {
     "data": {
      "text/plain": [
       "XGBRegressor(base_score=0.5, colsample_bylevel=1, colsample_bytree=1, gamma=0,\n",
       "       learning_rate=0.1, max_delta_step=0, max_depth=2,\n",
       "       min_child_weight=1, missing=None, n_estimators=360, nthread=-1,\n",
       "       objective='reg:linear', reg_alpha=0, reg_lambda=1,\n",
       "       scale_pos_weight=1, seed=0, silent=True, subsample=1)"
      ]
     },
     "execution_count": 188,
     "metadata": {},
     "output_type": "execute_result"
    }
   ],
   "source": [
    "model_xgb = xgb.XGBRegressor(n_estimators=360, max_depth=2, learning_rate=0.1) #the params were tuned using xgb.cv\n",
    "model_xgb.fit(X_train, y)"
   ]
  },
  {
   "cell_type": "code",
   "execution_count": 189,
   "metadata": {
    "collapsed": true
   },
   "outputs": [],
   "source": [
    "xgb_preds = np.expm1(model_xgb.predict(X_test))\n",
    "lasso_preds = np.expm1(model_lasso.predict(X_test))"
   ]
  },
  {
   "cell_type": "code",
   "execution_count": 190,
   "metadata": {},
   "outputs": [
    {
     "data": {
      "text/plain": [
       "<matplotlib.axes._subplots.AxesSubplot at 0x7eff7c333b00>"
      ]
     },
     "execution_count": 190,
     "metadata": {},
     "output_type": "execute_result"
    },
    {
     "data": {
      "image/png": "[encoded data removed]",
      "text/plain": [
       "<matplotlib.figure.Figure at 0x7eff7c2af5f8>"
      ]
     },
     "metadata": {
      "image/png": {
       "height": 371,
       "width": 404
      }
     },
     "output_type": "display_data"
    }
   ],
   "source": [
    "predictions = pd.DataFrame({\"xgb\":xgb_preds, \"lasso\":lasso_preds})\n",
    "predictions.plot(x = \"xgb\", y = \"lasso\", kind = \"scatter\")"
   ]
  },
  {
   "cell_type": "markdown",
   "metadata": {},
   "source": [
    "Many times it makes sense to take a weighted average of uncorrelated results - this usually imporoves the score although in this case it doesn't help that much."
   ]
  },
  {
   "cell_type": "code",
   "execution_count": 191,
   "metadata": {
    "collapsed": true
   },
   "outputs": [],
   "source": [
    "preds = 0.7*lasso_preds + 0.3*xgb_preds"
   ]
  },
  {
   "cell_type": "code",
   "execution_count": 192,
   "metadata": {
    "collapsed": true
   },
   "outputs": [],
   "source": [
    "solution = pd.DataFrame({\"id\":test.Id, \"SalePrice\":preds})\n",
    "solution.to_csv(\"ridge_sol.csv\", index = False)"
   ]
  },
  {
   "cell_type": "markdown",
   "metadata": {},
   "source": [
    "### Trying out keras?\n",
    "\n",
    "Feedforward Neural Nets doesn't seem to work well at all...I wonder why."
   ]
  },
  {
   "cell_type": "code",
   "execution_count": 227,
   "metadata": {},
   "outputs": [],
   "source": [
    "from keras.layers import Dense\n",
    "from keras.models import Sequential\n",
    "from keras.regularizers import l1\n",
    "from sklearn.preprocessing import StandardScaler\n",
    "from sklearn.model_selection import train_test_split"
   ]
  },
  {
   "cell_type": "code",
   "execution_count": 228,
   "metadata": {},
   "outputs": [],
   "source": [
    "X_train = StandardScaler().fit_transform(X_train)"
   ]
  },
  {
   "cell_type": "code",
   "execution_count": 229,
   "metadata": {
    "collapsed": true
   },
   "outputs": [],
   "source": [
    "X_tr, X_val, y_tr, y_val = train_test_split(X_train, y, random_state = 3)"
   ]
  },
  {
   "cell_type": "code",
   "execution_count": 230,
   "metadata": {},
   "outputs": [
    {
     "data": {
      "text/plain": [
       "(1095, 288)"
      ]
     },
     "execution_count": 230,
     "metadata": {},
     "output_type": "execute_result"
    }
   ],
   "source": [
    "X_tr.shape"
   ]
  },
  {
   "cell_type": "code",
   "execution_count": 231,
   "metadata": {
    "scrolled": true
   },
   "outputs": [
    {
     "data": {
      "text/plain": [
       "array([[ 1.00573733,  0.68066137, -0.46001991, ..., -0.11785113,\n",
       "         0.4676514 , -0.30599503],\n",
       "       [-1.12520184,  0.60296111,  0.03113183, ..., -0.11785113,\n",
       "         0.4676514 , -0.30599503],\n",
       "       [-1.12520184, -0.02865265, -0.74027492, ..., -0.11785113,\n",
       "         0.4676514 , -0.30599503],\n",
       "       ..., \n",
       "       [ 0.16426234, -0.87075036, -0.81954431, ..., -0.11785113,\n",
       "        -2.13834494, -0.30599503],\n",
       "       [ 0.92361154, -0.30038284, -0.44275864, ..., -0.11785113,\n",
       "         0.4676514 , -0.30599503],\n",
       "       [ 0.83656519,  1.98505948,  0.46455838, ..., -0.11785113,\n",
       "         0.4676514 , -0.30599503]])"
      ]
     },
     "execution_count": 231,
     "metadata": {},
     "output_type": "execute_result"
    }
   ],
   "source": [
    "X_tr"
   ]
  },
  {
   "cell_type": "code",
   "execution_count": 232,
   "metadata": {},
   "outputs": [
    {
     "name": "stdout",
     "output_type": "stream",
     "text": [
      "Train on 1095 samples, validate on 365 samples\n",
      "Epoch 1/200\n",
      "\r",
      "  10/1095 [..............................] - ETA: 7s - loss: 146.0224"
     ]
    },
    {
     "name": "stderr",
     "output_type": "stream",
     "text": [
      "/usr/local/lib/python3.5/dist-packages/Keras-2.0.3-py3.5.egg/keras/models.py:834: UserWarning: The `nb_epoch` argument in `fit` has been renamed `epochs`.\n",
      "  warnings.warn('The `nb_epoch` argument in `fit` '\n"
     ]
    },
    {
     "name": "stdout",
     "output_type": "stream",
     "text": [
      "1095/1095 [==============================] - 0s - loss: 147.8626 - val_loss: 144.2528\n",
      "Epoch 2/200\n",
      "1095/1095 [==============================] - 0s - loss: 142.9341 - val_loss: 147.6450\n",
      "Epoch 3/200\n",
      "1095/1095 [==============================] - 0s - loss: 138.9186 - val_loss: 151.9464\n",
      "Epoch 4/200\n",
      "1095/1095 [==============================] - 0s - loss: 134.9730 - val_loss: 157.1714\n",
      "Epoch 5/200\n",
      "1095/1095 [==============================] - 0s - loss: 131.3065 - val_loss: 163.4936\n",
      "Epoch 6/200\n",
      "1095/1095 [==============================] - 0s - loss: 127.5701 - val_loss: 170.4766\n",
      "Epoch 7/200\n",
      "1095/1095 [==============================] - 0s - loss: 124.0535 - val_loss: 178.4357\n",
      "Epoch 8/200\n",
      "1095/1095 [==============================] - 0s - loss: 120.6808 - val_loss: 187.0356\n",
      "Epoch 9/200\n",
      "1095/1095 [==============================] - 0s - loss: 117.3965 - val_loss: 196.8741\n",
      "Epoch 10/200\n",
      "1095/1095 [==============================] - 0s - loss: 114.1838 - val_loss: 207.2899\n",
      "Epoch 11/200\n",
      "1095/1095 [==============================] - 0s - loss: 111.0724 - val_loss: 218.4219\n",
      "Epoch 12/200\n",
      "1095/1095 [==============================] - 0s - loss: 108.0269 - val_loss: 230.5578\n",
      "Epoch 13/200\n",
      "1095/1095 [==============================] - 0s - loss: 105.0756 - val_loss: 243.1479\n",
      "Epoch 14/200\n",
      "1095/1095 [==============================] - 0s - loss: 102.2124 - val_loss: 257.1247\n",
      "Epoch 15/200\n",
      "1095/1095 [==============================] - ETA: 0s - loss: 99.67 - 0s - loss: 99.3848 - val_loss: 270.9593\n",
      "Epoch 16/200\n",
      "1095/1095 [==============================] - 0s - loss: 96.6516 - val_loss: 286.1822\n",
      "Epoch 17/200\n",
      "1095/1095 [==============================] - 0s - loss: 93.9790 - val_loss: 301.9357\n",
      "Epoch 18/200\n",
      "1095/1095 [==============================] - 0s - loss: 91.3148 - val_loss: 318.3861\n",
      "Epoch 19/200\n",
      "1095/1095 [==============================] - 0s - loss: 88.8280 - val_loss: 335.9433\n",
      "Epoch 20/200\n",
      "1095/1095 [==============================] - 0s - loss: 86.3032 - val_loss: 353.8752\n",
      "Epoch 21/200\n",
      "1095/1095 [==============================] - 0s - loss: 83.9042 - val_loss: 372.8044\n",
      "Epoch 22/200\n",
      "1095/1095 [==============================] - 0s - loss: 81.4362 - val_loss: 392.1885\n",
      "Epoch 23/200\n",
      "1095/1095 [==============================] - 0s - loss: 79.1342 - val_loss: 412.3999\n",
      "Epoch 24/200\n",
      "1095/1095 [==============================] - 0s - loss: 76.8597 - val_loss: 433.1787\n",
      "Epoch 25/200\n",
      "1095/1095 [==============================] - 0s - loss: 74.6178 - val_loss: 454.2511\n",
      "Epoch 26/200\n",
      "1095/1095 [==============================] - 0s - loss: 72.4240 - val_loss: 476.3776\n",
      "Epoch 27/200\n",
      "1095/1095 [==============================] - 0s - loss: 70.3008 - val_loss: 499.3724\n",
      "Epoch 28/200\n",
      "1095/1095 [==============================] - 0s - loss: 68.2076 - val_loss: 522.7713\n",
      "Epoch 29/200\n",
      "1095/1095 [==============================] - 0s - loss: 66.1487 - val_loss: 546.6629\n",
      "Epoch 30/200\n",
      "1095/1095 [==============================] - 0s - loss: 64.1260 - val_loss: 571.9342\n",
      "Epoch 31/200\n",
      "1095/1095 [==============================] - 0s - loss: 62.1718 - val_loss: 596.9963\n",
      "Epoch 32/200\n",
      "1095/1095 [==============================] - 0s - loss: 60.2422 - val_loss: 623.0438\n",
      "Epoch 33/200\n",
      "1095/1095 [==============================] - 0s - loss: 58.3507 - val_loss: 649.4716\n",
      "Epoch 34/200\n",
      "1095/1095 [==============================] - 0s - loss: 56.5296 - val_loss: 676.9376\n",
      "Epoch 35/200\n",
      "1095/1095 [==============================] - 0s - loss: 54.6989 - val_loss: 704.2728\n",
      "Epoch 36/200\n",
      "1095/1095 [==============================] - 0s - loss: 52.9559 - val_loss: 733.1405 5\n",
      "Epoch 37/200\n",
      "1095/1095 [==============================] - 0s - loss: 51.1828 - val_loss: 762.0788\n",
      "Epoch 38/200\n",
      "1095/1095 [==============================] - 0s - loss: 49.5581 - val_loss: 792.0899\n",
      "Epoch 39/200\n",
      "1095/1095 [==============================] - 0s - loss: 47.8579 - val_loss: 822.0911\n",
      "Epoch 40/200\n",
      "1095/1095 [==============================] - 0s - loss: 46.2313 - val_loss: 852.5308\n",
      "Epoch 41/200\n",
      "1095/1095 [==============================] - 0s - loss: 44.6620 - val_loss: 884.1211\n",
      "Epoch 42/200\n",
      "1095/1095 [==============================] - 0s - loss: 43.1094 - val_loss: 915.7577\n",
      "Epoch 43/200\n",
      "1095/1095 [==============================] - 0s - loss: 41.5997 - val_loss: 948.2388\n",
      "Epoch 44/200\n",
      "1095/1095 [==============================] - 0s - loss: 40.0974 - val_loss: 980.9651\n",
      "Epoch 45/200\n",
      "1095/1095 [==============================] - 0s - loss: 38.6801 - val_loss: 1015.0107\n",
      "Epoch 46/200\n",
      "1095/1095 [==============================] - 0s - loss: 37.2557 - val_loss: 1049.0622\n",
      "Epoch 47/200\n",
      "1095/1095 [==============================] - 0s - loss: 35.8646 - val_loss: 1083.3235\n",
      "Epoch 48/200\n",
      "1095/1095 [==============================] - 0s - loss: 34.5003 - val_loss: 1118.2503\n",
      "Epoch 49/200\n",
      "1095/1095 [==============================] - 0s - loss: 33.2047 - val_loss: 1154.0598\n",
      "Epoch 50/200\n",
      "1095/1095 [==============================] - 0s - loss: 31.9096 - val_loss: 1189.9569\n",
      "Epoch 51/200\n",
      "1095/1095 [==============================] - 0s - loss: 30.6455 - val_loss: 1226.3226\n",
      "Epoch 52/200\n",
      "1095/1095 [==============================] - 0s - loss: 29.4218 - val_loss: 1262.7379\n",
      "Epoch 53/200\n",
      "1095/1095 [==============================] - 0s - loss: 28.2155 - val_loss: 1301.558627.\n",
      "Epoch 54/200\n",
      "1095/1095 [==============================] - 0s - loss: 27.0630 - val_loss: 1338.2832\n",
      "Epoch 55/200\n",
      "1095/1095 [==============================] - 0s - loss: 25.9404 - val_loss: 1376.8168\n",
      "Epoch 56/200\n",
      "1095/1095 [==============================] - 0s - loss: 24.8401 - val_loss: 1416.0619\n",
      "Epoch 57/200\n",
      "1095/1095 [==============================] - 0s - loss: 23.7756 - val_loss: 1454.8343\n",
      "Epoch 58/200\n",
      "1095/1095 [==============================] - 0s - loss: 22.7087 - val_loss: 1494.1234\n",
      "Epoch 59/200\n",
      "1095/1095 [==============================] - 0s - loss: 21.6992 - val_loss: 1534.9039\n",
      "Epoch 60/200\n",
      "1095/1095 [==============================] - 0s - loss: 20.7072 - val_loss: 1574.5535\n",
      "Epoch 61/200\n",
      "1095/1095 [==============================] - 0s - loss: 19.7430 - val_loss: 1615.3775\n",
      "Epoch 62/200\n",
      "1095/1095 [==============================] - 0s - loss: 18.8186 - val_loss: 1656.3642\n",
      "Epoch 63/200\n",
      "1095/1095 [==============================] - 0s - loss: 17.9285 - val_loss: 1697.3807\n",
      "Epoch 64/200\n",
      "1095/1095 [==============================] - 0s - loss: 17.0605 - val_loss: 1740.3248\n",
      "Epoch 65/200\n",
      "1095/1095 [==============================] - 0s - loss: 16.1941 - val_loss: 1781.7303\n",
      "Epoch 66/200\n",
      "1095/1095 [==============================] - 0s - loss: 15.3846 - val_loss: 1823.7637\n",
      "Epoch 67/200\n",
      "1095/1095 [==============================] - 0s - loss: 14.5730 - val_loss: 1866.5440\n",
      "Epoch 68/200\n",
      "1095/1095 [==============================] - 0s - loss: 13.8063 - val_loss: 1909.8470\n",
      "Epoch 69/200\n",
      "1095/1095 [==============================] - 0s - loss: 13.0669 - val_loss: 1952.1081\n",
      "Epoch 70/200\n",
      "1095/1095 [==============================] - 0s - loss: 12.3590 - val_loss: 1995.8413\n",
      "Epoch 71/200\n",
      "1095/1095 [==============================] - 0s - loss: 11.6669 - val_loss: 2039.0172\n",
      "Epoch 72/200\n",
      "1095/1095 [==============================] - 0s - loss: 11.0019 - val_loss: 2083.0033\n",
      "Epoch 73/200\n",
      "1095/1095 [==============================] - 0s - loss: 10.3621 - val_loss: 2126.9122\n",
      "Epoch 74/200\n",
      "1095/1095 [==============================] - 0s - loss: 9.7407 - val_loss: 2170.4875\n",
      "Epoch 75/200\n",
      "1095/1095 [==============================] - 0s - loss: 9.1380 - val_loss: 2214.3723\n",
      "Epoch 76/200\n",
      "1095/1095 [==============================] - 0s - loss: 8.5669 - val_loss: 2258.1721\n",
      "Epoch 77/200\n",
      "1095/1095 [==============================] - 0s - loss: 8.0240 - val_loss: 2302.4521\n",
      "Epoch 78/200\n",
      "1095/1095 [==============================] - 0s - loss: 7.5137 - val_loss: 2347.2928\n",
      "Epoch 79/200\n",
      "1095/1095 [==============================] - 0s - loss: 7.0113 - val_loss: 2391.0214\n",
      "Epoch 80/200\n",
      "1095/1095 [==============================] - 0s - loss: 6.5403 - val_loss: 2435.3666\n",
      "Epoch 81/200\n",
      "1095/1095 [==============================] - 0s - loss: 6.0706 - val_loss: 2479.3597\n",
      "Epoch 82/200\n",
      "1095/1095 [==============================] - 0s - loss: 5.6343 - val_loss: 2522.6985\n",
      "Epoch 83/200\n",
      "1095/1095 [==============================] - 0s - loss: 5.2468 - val_loss: 2566.9449\n",
      "Epoch 84/200\n"
     ]
    },
    {
     "name": "stdout",
     "output_type": "stream",
     "text": [
      "1095/1095 [==============================] - 0s - loss: 4.8386 - val_loss: 2610.3211\n",
      "Epoch 85/200\n",
      "1095/1095 [==============================] - 0s - loss: 4.4660 - val_loss: 2653.5708\n",
      "Epoch 86/200\n",
      "1095/1095 [==============================] - 0s - loss: 4.1117 - val_loss: 2696.9635\n",
      "Epoch 87/200\n",
      "1095/1095 [==============================] - 0s - loss: 3.7750 - val_loss: 2739.7291\n",
      "Epoch 88/200\n",
      "1095/1095 [==============================] - 0s - loss: 3.4657 - val_loss: 2782.7381\n",
      "Epoch 89/200\n",
      "1095/1095 [==============================] - 0s - loss: 3.1767 - val_loss: 2824.3200\n",
      "Epoch 90/200\n",
      "1095/1095 [==============================] - 0s - loss: 2.8984 - val_loss: 2865.7891\n",
      "Epoch 91/200\n",
      "1095/1095 [==============================] - 0s - loss: 2.6343 - val_loss: 2907.4713\n",
      "Epoch 92/200\n",
      "1095/1095 [==============================] - 0s - loss: 2.3960 - val_loss: 2948.1878\n",
      "Epoch 93/200\n",
      "1095/1095 [==============================] - 0s - loss: 2.1730 - val_loss: 2988.2593\n",
      "Epoch 94/200\n",
      "1095/1095 [==============================] - 0s - loss: 1.9703 - val_loss: 3028.7999\n",
      "Epoch 95/200\n",
      "1095/1095 [==============================] - 0s - loss: 1.7696 - val_loss: 3066.1553\n",
      "Epoch 96/200\n",
      "1095/1095 [==============================] - 0s - loss: 1.5907 - val_loss: 3105.0073\n",
      "Epoch 97/200\n",
      "1095/1095 [==============================] - 0s - loss: 1.4322 - val_loss: 3142.3346\n",
      "Epoch 98/200\n",
      "1095/1095 [==============================] - 0s - loss: 1.2768 - val_loss: 3178.0111\n",
      "Epoch 99/200\n",
      "1095/1095 [==============================] - 0s - loss: 1.1349 - val_loss: 3213.8165\n",
      "Epoch 100/200\n",
      "1095/1095 [==============================] - 0s - loss: 1.0129 - val_loss: 3248.6555\n",
      "Epoch 101/200\n",
      "1095/1095 [==============================] - 0s - loss: 0.8956 - val_loss: 3282.8058\n",
      "Epoch 102/200\n",
      "1095/1095 [==============================] - 0s - loss: 0.7926 - val_loss: 3315.2132\n",
      "Epoch 103/200\n",
      "1095/1095 [==============================] - 0s - loss: 0.7003 - val_loss: 3346.3231\n",
      "Epoch 104/200\n",
      "1095/1095 [==============================] - 0s - loss: 0.6163 - val_loss: 3376.5336\n",
      "Epoch 105/200\n",
      "1095/1095 [==============================] - 0s - loss: 0.5424 - val_loss: 3405.3702\n",
      "Epoch 106/200\n",
      "1095/1095 [==============================] - 0s - loss: 0.4755 - val_loss: 3433.4687\n",
      "Epoch 107/200\n",
      "1095/1095 [==============================] - 0s - loss: 0.4185 - val_loss: 3458.9154\n",
      "Epoch 108/200\n",
      "1095/1095 [==============================] - 0s - loss: 0.3649 - val_loss: 3483.5470\n",
      "Epoch 109/200\n",
      "1095/1095 [==============================] - 0s - loss: 0.3214 - val_loss: 3508.1020\n",
      "Epoch 110/200\n",
      "1095/1095 [==============================] - 0s - loss: 0.2829 - val_loss: 3529.8279\n",
      "Epoch 111/200\n",
      "1095/1095 [==============================] - 0s - loss: 0.2481 - val_loss: 3550.1317\n",
      "Epoch 112/200\n",
      "1095/1095 [==============================] - 0s - loss: 0.2180 - val_loss: 3568.9517\n",
      "Epoch 113/200\n",
      "1095/1095 [==============================] - 0s - loss: 0.1932 - val_loss: 3587.2150\n",
      "Epoch 114/200\n",
      "1095/1095 [==============================] - 0s - loss: 0.1715 - val_loss: 3603.4774\n",
      "Epoch 115/200\n",
      "1095/1095 [==============================] - 0s - loss: 0.1516 - val_loss: 3618.4153\n",
      "Epoch 116/200\n",
      "1095/1095 [==============================] - 0s - loss: 0.1372 - val_loss: 3631.5098\n",
      "Epoch 117/200\n",
      "1095/1095 [==============================] - 0s - loss: 0.1228 - val_loss: 3643.6426\n",
      "Epoch 118/200\n",
      "1095/1095 [==============================] - 0s - loss: 0.1121 - val_loss: 3654.2703\n",
      "Epoch 119/200\n",
      "1095/1095 [==============================] - 0s - loss: 0.1015 - val_loss: 3664.1982\n",
      "Epoch 120/200\n",
      "1095/1095 [==============================] - 0s - loss: 0.0928 - val_loss: 3672.8786\n",
      "Epoch 121/200\n",
      "1095/1095 [==============================] - 0s - loss: 0.0856 - val_loss: 3679.8634\n",
      "Epoch 122/200\n",
      "1095/1095 [==============================] - 0s - loss: 0.0787 - val_loss: 3686.3460\n",
      "Epoch 123/200\n",
      "1095/1095 [==============================] - 0s - loss: 0.0728 - val_loss: 3692.1932\n",
      "Epoch 124/200\n",
      "1095/1095 [==============================] - 0s - loss: 0.0686 - val_loss: 3695.9964\n",
      "Epoch 125/200\n",
      "1095/1095 [==============================] - 0s - loss: 0.0646 - val_loss: 3700.0226\n",
      "Epoch 126/200\n",
      "1095/1095 [==============================] - 0s - loss: 0.0595 - val_loss: 3702.4363\n",
      "Epoch 127/200\n",
      "1095/1095 [==============================] - 0s - loss: 0.0572 - val_loss: 3706.1667\n",
      "Epoch 128/200\n",
      "1095/1095 [==============================] - 0s - loss: 0.0528 - val_loss: 3708.4186\n",
      "Epoch 129/200\n",
      "1095/1095 [==============================] - 0s - loss: 0.0498 - val_loss: 3709.7659\n",
      "Epoch 130/200\n",
      "1095/1095 [==============================] - 0s - loss: 0.0477 - val_loss: 3711.4823\n",
      "Epoch 131/200\n",
      "1095/1095 [==============================] - 0s - loss: 0.0449 - val_loss: 3712.3902\n",
      "Epoch 132/200\n",
      "1095/1095 [==============================] - ETA: 0s - loss: 0.049 - 0s - loss: 0.0431 - val_loss: 3714.0101\n",
      "Epoch 133/200\n",
      "1095/1095 [==============================] - 0s - loss: 0.0411 - val_loss: 3714.2259\n",
      "Epoch 134/200\n",
      "1095/1095 [==============================] - 0s - loss: 0.0390 - val_loss: 3714.8489\n",
      "Epoch 135/200\n",
      "1095/1095 [==============================] - 0s - loss: 0.0380 - val_loss: 3715.0851\n",
      "Epoch 136/200\n",
      "1095/1095 [==============================] - 0s - loss: 0.0351 - val_loss: 3715.6745\n",
      "Epoch 137/200\n",
      "1095/1095 [==============================] - 0s - loss: 0.0331 - val_loss: 3716.1212\n",
      "Epoch 138/200\n",
      "1095/1095 [==============================] - 0s - loss: 0.0316 - val_loss: 3716.1176\n",
      "Epoch 139/200\n",
      "1095/1095 [==============================] - 0s - loss: 0.0306 - val_loss: 3716.2382\n",
      "Epoch 140/200\n",
      "1095/1095 [==============================] - 0s - loss: 0.0287 - val_loss: 3716.3712\n",
      "Epoch 141/200\n",
      "1095/1095 [==============================] - 0s - loss: 0.0286 - val_loss: 3715.9782\n",
      "Epoch 142/200\n",
      "1095/1095 [==============================] - 0s - loss: 0.0266 - val_loss: 3715.0670\n",
      "Epoch 143/200\n",
      "1095/1095 [==============================] - 0s - loss: 0.0251 - val_loss: 3716.3751\n",
      "Epoch 144/200\n",
      "1095/1095 [==============================] - 0s - loss: 0.0240 - val_loss: 3716.6106\n",
      "Epoch 145/200\n",
      "1095/1095 [==============================] - 0s - loss: 0.0237 - val_loss: 3716.5961\n",
      "Epoch 146/200\n",
      "1095/1095 [==============================] - 0s - loss: 0.0236 - val_loss: 3714.6120\n",
      "Epoch 147/200\n",
      "1095/1095 [==============================] - 0s - loss: 0.0221 - val_loss: 3716.3385\n",
      "Epoch 148/200\n",
      "1095/1095 [==============================] - 0s - loss: 0.0210 - val_loss: 3715.0834\n",
      "Epoch 149/200\n",
      "1095/1095 [==============================] - 0s - loss: 0.0207 - val_loss: 3715.4838\n",
      "Epoch 150/200\n",
      "1095/1095 [==============================] - 0s - loss: 0.0196 - val_loss: 3715.8349\n",
      "Epoch 151/200\n",
      "1095/1095 [==============================] - 0s - loss: 0.0194 - val_loss: 3716.1813\n",
      "Epoch 152/200\n",
      "1095/1095 [==============================] - 0s - loss: 0.0195 - val_loss: 3715.2416\n",
      "Epoch 153/200\n",
      "1095/1095 [==============================] - 0s - loss: 0.0201 - val_loss: 3717.6698\n",
      "Epoch 154/200\n",
      "1095/1095 [==============================] - 0s - loss: 0.0200 - val_loss: 3717.8098\n",
      "Epoch 155/200\n",
      "1095/1095 [==============================] - 0s - loss: 0.0195 - val_loss: 3719.0927\n",
      "Epoch 156/200\n",
      "1095/1095 [==============================] - 0s - loss: 0.0197 - val_loss: 3716.0391\n",
      "Epoch 157/200\n",
      "1095/1095 [==============================] - 0s - loss: 0.0177 - val_loss: 3718.2403\n",
      "Epoch 158/200\n",
      "1095/1095 [==============================] - 0s - loss: 0.0162 - val_loss: 3718.2598\n",
      "Epoch 159/200\n",
      "1095/1095 [==============================] - 0s - loss: 0.0164 - val_loss: 3720.2330\n",
      "Epoch 160/200\n",
      "1095/1095 [==============================] - 0s - loss: 0.0162 - val_loss: 3719.3643\n",
      "Epoch 161/200\n",
      "1095/1095 [==============================] - 0s - loss: 0.0153 - val_loss: 3717.6771\n",
      "Epoch 162/200\n",
      "1095/1095 [==============================] - 0s - loss: 0.0158 - val_loss: 3718.9627\n",
      "Epoch 163/200\n",
      "1095/1095 [==============================] - 0s - loss: 0.0163 - val_loss: 3715.6725\n",
      "Epoch 164/200\n",
      "1095/1095 [==============================] - 0s - loss: 0.0166 - val_loss: 3715.6146\n",
      "Epoch 165/200\n",
      "1095/1095 [==============================] - 0s - loss: 0.0170 - val_loss: 3718.2858\n",
      "Epoch 166/200\n"
     ]
    },
    {
     "name": "stdout",
     "output_type": "stream",
     "text": [
      "1095/1095 [==============================] - 0s - loss: 0.0160 - val_loss: 3719.8517\n",
      "Epoch 167/200\n",
      "1095/1095 [==============================] - 0s - loss: 0.0172 - val_loss: 3715.3694\n",
      "Epoch 168/200\n",
      "1095/1095 [==============================] - 0s - loss: 0.0181 - val_loss: 3715.9077\n",
      "Epoch 169/200\n",
      "1095/1095 [==============================] - 0s - loss: 0.0151 - val_loss: 3717.5453\n",
      "Epoch 170/200\n",
      "1095/1095 [==============================] - 0s - loss: 0.0158 - val_loss: 3718.2228\n",
      "Epoch 171/200\n",
      "1095/1095 [==============================] - 0s - loss: 0.0169 - val_loss: 3721.3264\n",
      "Epoch 172/200\n",
      "1095/1095 [==============================] - 0s - loss: 0.0175 - val_loss: 3717.4557\n",
      "Epoch 173/200\n",
      "1095/1095 [==============================] - 0s - loss: 0.0177 - val_loss: 3718.1455\n",
      "Epoch 174/200\n",
      "1095/1095 [==============================] - 0s - loss: 0.0167 - val_loss: 3719.8154\n",
      "Epoch 175/200\n",
      "1095/1095 [==============================] - 0s - loss: 0.0176 - val_loss: 3718.7017\n",
      "Epoch 176/200\n",
      "1095/1095 [==============================] - 0s - loss: 0.0196 - val_loss: 3719.2283\n",
      "Epoch 177/200\n",
      "1095/1095 [==============================] - 0s - loss: 0.0181 - val_loss: 3719.3671\n",
      "Epoch 178/200\n",
      "1095/1095 [==============================] - 0s - loss: 0.0179 - val_loss: 3722.0575\n",
      "Epoch 179/200\n",
      "1095/1095 [==============================] - 0s - loss: 0.0156 - val_loss: 3719.1205\n",
      "Epoch 180/200\n",
      "1095/1095 [==============================] - 0s - loss: 0.0156 - val_loss: 3720.6695\n",
      "Epoch 181/200\n",
      "1095/1095 [==============================] - 0s - loss: 0.0148 - val_loss: 3720.5900\n",
      "Epoch 182/200\n",
      "1095/1095 [==============================] - 0s - loss: 0.0162 - val_loss: 3721.8957\n",
      "Epoch 183/200\n",
      "1095/1095 [==============================] - 0s - loss: 0.0156 - val_loss: 3721.6780\n",
      "Epoch 184/200\n",
      "1095/1095 [==============================] - 0s - loss: 0.0150 - val_loss: 3717.5135\n",
      "Epoch 185/200\n",
      "1095/1095 [==============================] - 0s - loss: 0.0145 - val_loss: 3721.3935\n",
      "Epoch 186/200\n",
      "1095/1095 [==============================] - 0s - loss: 0.0151 - val_loss: 3720.0076\n",
      "Epoch 187/200\n",
      "1095/1095 [==============================] - 0s - loss: 0.0160 - val_loss: 3718.8469\n",
      "Epoch 188/200\n",
      "1095/1095 [==============================] - 0s - loss: 0.0155 - val_loss: 3717.1089\n",
      "Epoch 189/200\n",
      "1095/1095 [==============================] - 0s - loss: 0.0162 - val_loss: 3715.6863\n",
      "Epoch 190/200\n",
      "1095/1095 [==============================] - 0s - loss: 0.0173 - val_loss: 3718.0374\n",
      "Epoch 191/200\n",
      "1095/1095 [==============================] - 0s - loss: 0.0180 - val_loss: 3723.9801\n",
      "Epoch 192/200\n",
      "1095/1095 [==============================] - 0s - loss: 0.0172 - val_loss: 3721.2953\n",
      "Epoch 193/200\n",
      "1095/1095 [==============================] - 0s - loss: 0.0185 - val_loss: 3718.9235\n",
      "Epoch 194/200\n",
      "1095/1095 [==============================] - 0s - loss: 0.0176 - val_loss: 3720.2115\n",
      "Epoch 195/200\n",
      "1095/1095 [==============================] - 0s - loss: 0.0182 - val_loss: 3723.0882\n",
      "Epoch 196/200\n",
      "1095/1095 [==============================] - 0s - loss: 0.0171 - val_loss: 3719.9494\n",
      "Epoch 197/200\n",
      "1095/1095 [==============================] - 0s - loss: 0.0173 - val_loss: 3720.6171\n",
      "Epoch 198/200\n",
      "1095/1095 [==============================] - 0s - loss: 0.0167 - val_loss: 3721.7428\n",
      "Epoch 199/200\n",
      "1095/1095 [==============================] - 0s - loss: 0.0172 - val_loss: 3716.0121\n",
      "Epoch 200/200\n",
      "1095/1095 [==============================] - 0s - loss: 0.0162 - val_loss: 3719.5926\n"
     ]
    },
    {
     "data": {
      "text/plain": [
       "<keras.callbacks.History at 0x7eff5bd12b70>"
      ]
     },
     "execution_count": 232,
     "metadata": {},
     "output_type": "execute_result"
    }
   ],
   "source": [
    "model = Sequential()\n",
    "#model.add(Dense(256, activation=\"relu\", input_dim = X_train.shape[1]))\n",
    "#model.add(Dense(1, input_dim = X_train.shape[1], W_regularizer=l1(0.001))) ## R&R\n",
    "\n",
    "\n",
    "#model = Sequential() \n",
    "model.add(Dense(1, input_dim=X_train.shape[1], activation='linear')) \n",
    "#model.compile(loss='mse', optimizer='adam')\n",
    "model.compile(loss = \"mse\", optimizer = \"adam\")\n",
    "\n",
    "model.fit(X_tr, y_tr, shuffle=True, nb_epoch=200, batch_size=10, validation_data = (X_val, y_val))"
   ]
  },
  {
   "cell_type": "code",
   "execution_count": 233,
   "metadata": {},
   "outputs": [],
   "source": [
    "#model.summary()"
   ]
  },
  {
   "cell_type": "code",
   "execution_count": 234,
   "metadata": {},
   "outputs": [
    {
     "name": "stdout",
     "output_type": "stream",
     "text": [
      "Train on 1095 samples, validate on 365 samples\n",
      "Epoch 1/10\n",
      "1095/1095 [==============================] - 0s - loss: 0.0130 - val_loss: 3721.2764\n",
      "Epoch 2/10\n",
      "1095/1095 [==============================] - 0s - loss: 0.0099 - val_loss: 3721.1373\n",
      "Epoch 3/10\n",
      "1095/1095 [==============================] - 0s - loss: 0.0094 - val_loss: 3720.0500\n",
      "Epoch 4/10\n",
      "1095/1095 [==============================] - 0s - loss: 0.0093 - val_loss: 3719.9856\n",
      "Epoch 5/10\n",
      "1095/1095 [==============================] - 0s - loss: 0.0095 - val_loss: 3720.5662\n",
      "Epoch 6/10\n",
      "1095/1095 [==============================] - 0s - loss: 0.0095 - val_loss: 3719.6009\n",
      "Epoch 7/10\n",
      "1095/1095 [==============================] - 0s - loss: 0.0097 - val_loss: 3719.9668\n",
      "Epoch 8/10\n",
      "1095/1095 [==============================] - 0s - loss: 0.0095 - val_loss: 3719.5852\n",
      "Epoch 9/10\n",
      "1095/1095 [==============================] - 0s - loss: 0.0095 - val_loss: 3720.1098\n",
      "Epoch 10/10\n",
      "1095/1095 [==============================] - 0s - loss: 0.0096 - val_loss: 3720.0554\n"
     ]
    }
   ],
   "source": [
    "hist = model.fit(X_tr, y_tr, validation_data = (X_val, y_val))"
   ]
  },
  {
   "cell_type": "code",
   "execution_count": 235,
   "metadata": {},
   "outputs": [],
   "source": [
    "#pd.Series(model.predict(X_val)[:,0]).hist()"
   ]
  },
  {
   "cell_type": "code",
   "execution_count": 236,
   "metadata": {},
   "outputs": [],
   "source": [
    "#y_val"
   ]
  },
  {
   "cell_type": "code",
   "execution_count": 237,
   "metadata": {
    "collapsed": true
   },
   "outputs": [],
   "source": [
    "X_test = StandardScaler().fit_transform(X_test)"
   ]
  },
  {
   "cell_type": "code",
   "execution_count": 238,
   "metadata": {},
   "outputs": [
    {
     "data": {
      "text/plain": [
       "(1459, 288)"
      ]
     },
     "execution_count": 238,
     "metadata": {},
     "output_type": "execute_result"
    }
   ],
   "source": [
    "X_test.shape"
   ]
  },
  {
   "cell_type": "code",
   "execution_count": 239,
   "metadata": {
    "collapsed": true
   },
   "outputs": [],
   "source": [
    "pred = pd.DataFrame()"
   ]
  },
  {
   "cell_type": "code",
   "execution_count": 240,
   "metadata": {},
   "outputs": [],
   "source": [
    "\n",
    "pred['SalePrice'] = pd.Series(model.predict(X_test)[:,0])\n",
    "pred['SalePrice'] = np.exp(pred['SalePrice'])\n",
    "pred['Id'] = test['Id']"
   ]
  },
  {
   "cell_type": "code",
   "execution_count": 241,
   "metadata": {},
   "outputs": [
    {
     "data": {
      "text/plain": [
       "<matplotlib.axes._subplots.AxesSubplot at 0x7eff5bcdc710>"
      ]
     },
     "execution_count": 241,
     "metadata": {},
     "output_type": "execute_result"
    },
    {
     "data": {
      "image/png": "[encoded data removed]",
      "text/plain": [
       "<matplotlib.figure.Figure at 0x7eff5be71668>"
      ]
     },
     "metadata": {
      "image/png": {
       "height": 357,
       "width": 378
      }
     },
     "output_type": "display_data"
    }
   ],
   "source": [
    "pd.Series(model.predict(X_test)[:,0]).hist()"
   ]
  },
  {
   "cell_type": "code",
   "execution_count": 242,
   "metadata": {},
   "outputs": [
    {
     "data": {
      "text/html": [
       "<div>\n",
       "<style>\n",
       "    .dataframe thead tr:only-child th {\n",
       "        text-align: right;\n",
       "    }\n",
       "\n",
       "    .dataframe thead th {\n",
       "        text-align: left;\n",
       "    }\n",
       "\n",
       "    .dataframe tbody tr th {\n",
       "        vertical-align: top;\n",
       "    }\n",
       "</style>\n",
       "<table border=\"1\" class=\"dataframe\">\n",
       "  <thead>\n",
       "    <tr style=\"text-align: right;\">\n",
       "      <th></th>\n",
       "      <th>SalePrice</th>\n",
       "      <th>Id</th>\n",
       "    </tr>\n",
       "  </thead>\n",
       "  <tbody>\n",
       "    <tr>\n",
       "      <th>0</th>\n",
       "      <td>20761.291016</td>\n",
       "      <td>1461</td>\n",
       "    </tr>\n",
       "    <tr>\n",
       "      <th>1</th>\n",
       "      <td>27816.882812</td>\n",
       "      <td>1462</td>\n",
       "    </tr>\n",
       "    <tr>\n",
       "      <th>2</th>\n",
       "      <td>31959.927734</td>\n",
       "      <td>1463</td>\n",
       "    </tr>\n",
       "    <tr>\n",
       "      <th>3</th>\n",
       "      <td>34142.859375</td>\n",
       "      <td>1464</td>\n",
       "    </tr>\n",
       "    <tr>\n",
       "      <th>4</th>\n",
       "      <td>31760.093750</td>\n",
       "      <td>1465</td>\n",
       "    </tr>\n",
       "    <tr>\n",
       "      <th>5</th>\n",
       "      <td>29204.603516</td>\n",
       "      <td>1466</td>\n",
       "    </tr>\n",
       "    <tr>\n",
       "      <th>6</th>\n",
       "      <td>30149.478516</td>\n",
       "      <td>1467</td>\n",
       "    </tr>\n",
       "    <tr>\n",
       "      <th>7</th>\n",
       "      <td>27253.919922</td>\n",
       "      <td>1468</td>\n",
       "    </tr>\n",
       "    <tr>\n",
       "      <th>8</th>\n",
       "      <td>34331.710938</td>\n",
       "      <td>1469</td>\n",
       "    </tr>\n",
       "    <tr>\n",
       "      <th>9</th>\n",
       "      <td>20439.220703</td>\n",
       "      <td>1470</td>\n",
       "    </tr>\n",
       "    <tr>\n",
       "      <th>10</th>\n",
       "      <td>28037.673828</td>\n",
       "      <td>1471</td>\n",
       "    </tr>\n",
       "    <tr>\n",
       "      <th>11</th>\n",
       "      <td>16732.707031</td>\n",
       "      <td>1472</td>\n",
       "    </tr>\n",
       "    <tr>\n",
       "      <th>12</th>\n",
       "      <td>17029.712891</td>\n",
       "      <td>1473</td>\n",
       "    </tr>\n",
       "    <tr>\n",
       "      <th>13</th>\n",
       "      <td>25508.222656</td>\n",
       "      <td>1474</td>\n",
       "    </tr>\n",
       "    <tr>\n",
       "      <th>14</th>\n",
       "      <td>18878.130859</td>\n",
       "      <td>1475</td>\n",
       "    </tr>\n",
       "    <tr>\n",
       "      <th>15</th>\n",
       "      <td>64202.503906</td>\n",
       "      <td>1476</td>\n",
       "    </tr>\n",
       "    <tr>\n",
       "      <th>16</th>\n",
       "      <td>42602.125000</td>\n",
       "      <td>1477</td>\n",
       "    </tr>\n",
       "    <tr>\n",
       "      <th>17</th>\n",
       "      <td>52624.515625</td>\n",
       "      <td>1478</td>\n",
       "    </tr>\n",
       "    <tr>\n",
       "      <th>18</th>\n",
       "      <td>51089.550781</td>\n",
       "      <td>1479</td>\n",
       "    </tr>\n",
       "    <tr>\n",
       "      <th>19</th>\n",
       "      <td>88659.046875</td>\n",
       "      <td>1480</td>\n",
       "    </tr>\n",
       "    <tr>\n",
       "      <th>20</th>\n",
       "      <td>56972.503906</td>\n",
       "      <td>1481</td>\n",
       "    </tr>\n",
       "    <tr>\n",
       "      <th>21</th>\n",
       "      <td>34860.187500</td>\n",
       "      <td>1482</td>\n",
       "    </tr>\n",
       "    <tr>\n",
       "      <th>22</th>\n",
       "      <td>31082.060547</td>\n",
       "      <td>1483</td>\n",
       "    </tr>\n",
       "    <tr>\n",
       "      <th>23</th>\n",
       "      <td>25631.343750</td>\n",
       "      <td>1484</td>\n",
       "    </tr>\n",
       "    <tr>\n",
       "      <th>24</th>\n",
       "      <td>31840.976562</td>\n",
       "      <td>1485</td>\n",
       "    </tr>\n",
       "    <tr>\n",
       "      <th>25</th>\n",
       "      <td>31631.535156</td>\n",
       "      <td>1486</td>\n",
       "    </tr>\n",
       "    <tr>\n",
       "      <th>26</th>\n",
       "      <td>61066.582031</td>\n",
       "      <td>1487</td>\n",
       "    </tr>\n",
       "    <tr>\n",
       "      <th>27</th>\n",
       "      <td>40515.535156</td>\n",
       "      <td>1488</td>\n",
       "    </tr>\n",
       "    <tr>\n",
       "      <th>28</th>\n",
       "      <td>32276.798828</td>\n",
       "      <td>1489</td>\n",
       "    </tr>\n",
       "    <tr>\n",
       "      <th>29</th>\n",
       "      <td>41983.058594</td>\n",
       "      <td>1490</td>\n",
       "    </tr>\n",
       "    <tr>\n",
       "      <th>...</th>\n",
       "      <td>...</td>\n",
       "      <td>...</td>\n",
       "    </tr>\n",
       "    <tr>\n",
       "      <th>1429</th>\n",
       "      <td>13819.150391</td>\n",
       "      <td>2890</td>\n",
       "    </tr>\n",
       "    <tr>\n",
       "      <th>1430</th>\n",
       "      <td>25528.470703</td>\n",
       "      <td>2891</td>\n",
       "    </tr>\n",
       "    <tr>\n",
       "      <th>1431</th>\n",
       "      <td>8185.998535</td>\n",
       "      <td>2892</td>\n",
       "    </tr>\n",
       "    <tr>\n",
       "      <th>1432</th>\n",
       "      <td>13263.094727</td>\n",
       "      <td>2893</td>\n",
       "    </tr>\n",
       "    <tr>\n",
       "      <th>1433</th>\n",
       "      <td>8414.085938</td>\n",
       "      <td>2894</td>\n",
       "    </tr>\n",
       "    <tr>\n",
       "      <th>1434</th>\n",
       "      <td>62412.988281</td>\n",
       "      <td>2895</td>\n",
       "    </tr>\n",
       "    <tr>\n",
       "      <th>1435</th>\n",
       "      <td>49290.359375</td>\n",
       "      <td>2896</td>\n",
       "    </tr>\n",
       "    <tr>\n",
       "      <th>1436</th>\n",
       "      <td>37470.316406</td>\n",
       "      <td>2897</td>\n",
       "    </tr>\n",
       "    <tr>\n",
       "      <th>1437</th>\n",
       "      <td>23714.591797</td>\n",
       "      <td>2898</td>\n",
       "    </tr>\n",
       "    <tr>\n",
       "      <th>1438</th>\n",
       "      <td>34616.425781</td>\n",
       "      <td>2899</td>\n",
       "    </tr>\n",
       "    <tr>\n",
       "      <th>1439</th>\n",
       "      <td>27943.312500</td>\n",
       "      <td>2900</td>\n",
       "    </tr>\n",
       "    <tr>\n",
       "      <th>1440</th>\n",
       "      <td>25231.031250</td>\n",
       "      <td>2901</td>\n",
       "    </tr>\n",
       "    <tr>\n",
       "      <th>1441</th>\n",
       "      <td>26176.490234</td>\n",
       "      <td>2902</td>\n",
       "    </tr>\n",
       "    <tr>\n",
       "      <th>1442</th>\n",
       "      <td>56453.769531</td>\n",
       "      <td>2903</td>\n",
       "    </tr>\n",
       "    <tr>\n",
       "      <th>1443</th>\n",
       "      <td>58867.398438</td>\n",
       "      <td>2904</td>\n",
       "    </tr>\n",
       "    <tr>\n",
       "      <th>1444</th>\n",
       "      <td>36985.281250</td>\n",
       "      <td>2905</td>\n",
       "    </tr>\n",
       "    <tr>\n",
       "      <th>1445</th>\n",
       "      <td>34111.679688</td>\n",
       "      <td>2906</td>\n",
       "    </tr>\n",
       "    <tr>\n",
       "      <th>1446</th>\n",
       "      <td>18689.234375</td>\n",
       "      <td>2907</td>\n",
       "    </tr>\n",
       "    <tr>\n",
       "      <th>1447</th>\n",
       "      <td>21615.705078</td>\n",
       "      <td>2908</td>\n",
       "    </tr>\n",
       "    <tr>\n",
       "      <th>1448</th>\n",
       "      <td>24625.878906</td>\n",
       "      <td>2909</td>\n",
       "    </tr>\n",
       "    <tr>\n",
       "      <th>1449</th>\n",
       "      <td>12896.192383</td>\n",
       "      <td>2910</td>\n",
       "    </tr>\n",
       "    <tr>\n",
       "      <th>1450</th>\n",
       "      <td>14922.212891</td>\n",
       "      <td>2911</td>\n",
       "    </tr>\n",
       "    <tr>\n",
       "      <th>1451</th>\n",
       "      <td>27691.978516</td>\n",
       "      <td>2912</td>\n",
       "    </tr>\n",
       "    <tr>\n",
       "      <th>1452</th>\n",
       "      <td>13266.168945</td>\n",
       "      <td>2913</td>\n",
       "    </tr>\n",
       "    <tr>\n",
       "      <th>1453</th>\n",
       "      <td>13549.666992</td>\n",
       "      <td>2914</td>\n",
       "    </tr>\n",
       "    <tr>\n",
       "      <th>1454</th>\n",
       "      <td>14938.901367</td>\n",
       "      <td>2915</td>\n",
       "    </tr>\n",
       "    <tr>\n",
       "      <th>1455</th>\n",
       "      <td>13709.817383</td>\n",
       "      <td>2916</td>\n",
       "    </tr>\n",
       "    <tr>\n",
       "      <th>1456</th>\n",
       "      <td>29018.867188</td>\n",
       "      <td>2917</td>\n",
       "    </tr>\n",
       "    <tr>\n",
       "      <th>1457</th>\n",
       "      <td>21619.623047</td>\n",
       "      <td>2918</td>\n",
       "    </tr>\n",
       "    <tr>\n",
       "      <th>1458</th>\n",
       "      <td>38163.867188</td>\n",
       "      <td>2919</td>\n",
       "    </tr>\n",
       "  </tbody>\n",
       "</table>\n",
       "<p>1459 rows × 2 columns</p>\n",
       "</div>"
      ],
      "text/plain": [
       "         SalePrice    Id\n",
       "0     20761.291016  1461\n",
       "1     27816.882812  1462\n",
       "2     31959.927734  1463\n",
       "3     34142.859375  1464\n",
       "4     31760.093750  1465\n",
       "5     29204.603516  1466\n",
       "6     30149.478516  1467\n",
       "7     27253.919922  1468\n",
       "8     34331.710938  1469\n",
       "9     20439.220703  1470\n",
       "10    28037.673828  1471\n",
       "11    16732.707031  1472\n",
       "12    17029.712891  1473\n",
       "13    25508.222656  1474\n",
       "14    18878.130859  1475\n",
       "15    64202.503906  1476\n",
       "16    42602.125000  1477\n",
       "17    52624.515625  1478\n",
       "18    51089.550781  1479\n",
       "19    88659.046875  1480\n",
       "20    56972.503906  1481\n",
       "21    34860.187500  1482\n",
       "22    31082.060547  1483\n",
       "23    25631.343750  1484\n",
       "24    31840.976562  1485\n",
       "25    31631.535156  1486\n",
       "26    61066.582031  1487\n",
       "27    40515.535156  1488\n",
       "28    32276.798828  1489\n",
       "29    41983.058594  1490\n",
       "...            ...   ...\n",
       "1429  13819.150391  2890\n",
       "1430  25528.470703  2891\n",
       "1431   8185.998535  2892\n",
       "1432  13263.094727  2893\n",
       "1433   8414.085938  2894\n",
       "1434  62412.988281  2895\n",
       "1435  49290.359375  2896\n",
       "1436  37470.316406  2897\n",
       "1437  23714.591797  2898\n",
       "1438  34616.425781  2899\n",
       "1439  27943.312500  2900\n",
       "1440  25231.031250  2901\n",
       "1441  26176.490234  2902\n",
       "1442  56453.769531  2903\n",
       "1443  58867.398438  2904\n",
       "1444  36985.281250  2905\n",
       "1445  34111.679688  2906\n",
       "1446  18689.234375  2907\n",
       "1447  21615.705078  2908\n",
       "1448  24625.878906  2909\n",
       "1449  12896.192383  2910\n",
       "1450  14922.212891  2911\n",
       "1451  27691.978516  2912\n",
       "1452  13266.168945  2913\n",
       "1453  13549.666992  2914\n",
       "1454  14938.901367  2915\n",
       "1455  13709.817383  2916\n",
       "1456  29018.867188  2917\n",
       "1457  21619.623047  2918\n",
       "1458  38163.867188  2919\n",
       "\n",
       "[1459 rows x 2 columns]"
      ]
     },
     "execution_count": 242,
     "metadata": {},
     "output_type": "execute_result"
    }
   ],
   "source": [
    "pred"
   ]
  },
  {
   "cell_type": "code",
   "execution_count": 243,
   "metadata": {
    "collapsed": true
   },
   "outputs": [],
   "source": [
    "pred.to_csv(\"nn_solve.csv\", index = False)"
   ]
  },
  {
   "cell_type": "code",
   "execution_count": null,
   "metadata": {
    "collapsed": true
   },
   "outputs": [],
   "source": []
  },
  {
   "cell_type": "code",
   "execution_count": null,
   "metadata": {
    "collapsed": true
   },
   "outputs": [],
   "source": []
  },
  {
   "cell_type": "code",
   "execution_count": null,
   "metadata": {
    "collapsed": true
   },
   "outputs": [],
   "source": []
  }
 ],
 "metadata": {
  "kernelspec": {
   "display_name": "Python 3",
   "language": "python",
   "name": "python3"
  },
  "language_info": {
   "codemirror_mode": {
    "name": "ipython",
    "version": 3
   },
   "file_extension": ".py",
   "mimetype": "text/x-python",
   "name": "python",
   "nbconvert_exporter": "python",
   "pygments_lexer": "ipython3",
   "version": "3.5.2"
  }
 },
 "nbformat": 4,
 "nbformat_minor": 1
}
